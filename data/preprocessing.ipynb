{
 "cells": [
  {
   "cell_type": "code",
   "execution_count": null,
   "metadata": {},
   "outputs": [],
   "source": [
    "import pandas as pd\n",
    "import numpy as np\n",
    "import glob\n",
    "import pickle\n",
    "import matplotlib.pyplot as plt\n",
    "import librosa as lib\n",
    "\n",
    "from sklearn.model_selection import StratifiedGroupKFold"
   ]
  },
  {
   "cell_type": "code",
   "execution_count": null,
   "metadata": {},
   "outputs": [],
   "source": [
    "# Please set the data path where you saved.\n",
    "\n",
    "tdcs_meta = pd.read_csv('tdcsfog_metadata.csv')[1:] # The first row contains an example, so you should exclude this.\n",
    "defog_meta = pd.read_csv('defog_metadata.csv')[1:]  # Same Here\n",
    "\n",
    "defog_list = glob.glob('train/defog/*.csv')\n",
    "tdcs_list = glob.glob('train/tdcsfog/*.csv')\n",
    "\n",
    "meta = pd.concat([defog_meta, tdcs_meta])\n",
    "lists = defog_list + tdcs_list"
   ]
  },
  {
   "cell_type": "code",
   "execution_count": null,
   "metadata": {},
   "outputs": [],
   "source": [
    "\n",
    "'''\n",
    "Extract signals from dataframe (or parquet if you using extra datas for psuedo-labeling.)\n",
    "Perform mean-std normalization and create pickle files to read from the dataset class\n",
    "'''\n",
    "\n",
    "for i in range(len(lists)):\n",
    "    name = lists[i].split('/')[-1].split('.')[0]\n",
    "    df = pd.read_csv(lists[i])\n",
    "    data = np.asarray(df[['AccV','AccAP','AccML']])\n",
    "    np.save(f'train/data/{name}.npy', data)\n",
    "lists = defog_list + tdcs_list\n",
    "npy_l = glob.glob('train/data/*.npy')\n",
    "\n",
    "data = {}\n",
    "\n",
    "# Do mean-std Normalization\n",
    "Normalize = True   \n",
    "\n",
    "for i in range(len(npy_l)):\n",
    "    npy = np.load(npy_l[i])\n",
    "    if(Normalize == True):\n",
    "        npy = npy.reshape(3, -1)\n",
    "        npy = npy - npy.mean(1, keepdims=True)\n",
    "        npy = npy / npy.std(1, keepdims=True)\n",
    "        npy = npy.reshape(-1, 3)\n",
    "    name = npy_l[i].split('\\\\')[-1].split('.')[0]\n",
    "    data[name] = npy\n",
    "\n",
    "\n",
    "# Save the data\n",
    "with open(f'npy.pickle', 'wb') as handle:\n",
    "    pickle.dump(data, handle, protocol=pickle.HIGHEST_PROTOCOL)"
   ]
  },
  {
   "cell_type": "code",
   "execution_count": null,
   "metadata": {},
   "outputs": [],
   "source": [
    "'''\n",
    "Now we have to make dataframes, just concatenate all of defog and tdcsfog dataframes.\n",
    "We declared variable name 'lists' in cell number 1.\n",
    "And make the 'Subject' column but this may be an inefficient method.\n",
    "'''\n",
    "\n",
    "a = pd.DataFrame()\n",
    "\n",
    "for i in lists:\n",
    "    b = pd.read_csv(i)\n",
    "    b['id'] = i.split('\\\\')[-1].split('.')[0]\n",
    "    a = pd.concat([a, b])\n",
    "\n",
    "\n",
    "a['Subject'] = 0\n",
    "for i in range(len(meta)):\n",
    "    d = meta.iloc[i]\n",
    "    id = d['Id']\n",
    "    a.loc[(a['id']==id), 'Subject']=d['Subject']\n",
    "    \n"
   ]
  },
  {
   "cell_type": "code",
   "execution_count": null,
   "metadata": {},
   "outputs": [],
   "source": [
    "'''\n",
    "    Now, we need to make folds using StratifiedGroupKFold(y = new label, groups = Subject)\n",
    "    Default labels cannot splited by StratifiedGroupKFold because It does not support multi-label data.\n",
    "    So let's make new multi-class labels.\n",
    "'''\n",
    "\n",
    "# make new multi-class\n",
    "a['new_label'] = -1\n",
    "idx = a[(a['StartHesitation'] == 0)&(a['Turn'] == 0)&(a['Walking'] == 0)].index\n",
    "a['new_label'][idx] = 0\n",
    "idx = a[(a['StartHesitation'] == 1)&(a['Turn'] == 0)&(a['Walking'] == 0)].index\n",
    "a['new_label'][idx] = 1\n",
    "idx = a[(a['StartHesitation'] == 0)&(a['Turn'] == 1)&(a['Walking'] == 0)].index\n",
    "a['new_label'][idx] = 2\n",
    "idx = a[(a['StartHesitation'] == 0)&(a['Turn'] == 0)&(a['Walking'] == 1)].index\n",
    "a['new_label'][idx] = 3\n",
    "\n",
    "\n",
    "def get_folds(df, seed, n_splits):\n",
    "    skf = StratifiedGroupKFold(n_splits = n_splits, random_state = seed, shuffle=True)\n",
    "    df['fold'] = -1\n",
    "    for i, (train_idx, valid_idx) in enumerate(skf.split(X = df, y=df['new_label'], groups=df['Subject'])):\n",
    "        df.loc[valid_idx, 'fold'] = i\n",
    "    \n",
    "    return df\n",
    "\n",
    "# get folds and save!\n",
    "d = get_folds(a, seed = np.random.randint(0, 342039480), n_splits=5)\n",
    "d.to_parquet('train_5fold.parquet')"
   ]
  }
 ],
 "metadata": {
  "kernelspec": {
   "display_name": "Python 3",
   "language": "python",
   "name": "python3"
  },
  "language_info": {
   "codemirror_mode": {
    "name": "ipython",
    "version": 3
   },
   "file_extension": ".py",
   "mimetype": "text/x-python",
   "name": "python",
   "nbconvert_exporter": "python",
   "pygments_lexer": "ipython3",
   "version": "3.9.13"
  },
  "orig_nbformat": 4
 },
 "nbformat": 4,
 "nbformat_minor": 2
}
